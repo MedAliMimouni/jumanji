{
 "cells": [
  {
   "cell_type": "code",
   "execution_count": 1,
   "metadata": {
    "collapsed": true,
    "jupyter": {
     "outputs_hidden": true
    }
   },
   "outputs": [
    {
     "name": "stdout",
     "output_type": "stream",
     "text": [
      "Note: you may need to restart the kernel to use updated packages.\n"
     ]
    }
   ],
   "source": [
    "%pip install --quiet -U pip -r ../requirements/requirements-training.txt ../."
   ]
  },
  {
   "cell_type": "code",
   "execution_count": 35,
   "metadata": {
    "collapsed": false,
    "jupyter": {
     "outputs_hidden": false
    }
   },
   "outputs": [
    {
     "data": {
      "text/plain": [
       "True"
      ]
     },
     "execution_count": 35,
     "metadata": {},
     "output_type": "execute_result"
    }
   ],
   "source": [
    "import jax\n",
    "import pickle\n",
    "import jax.numpy as jnp\n",
    "import warnings\n",
    "warnings.filterwarnings(\"ignore\")\n",
    "\n",
    "from jumanji.training.train import train\n",
    "from jumanji.training.setup_train import setup_agent, setup_env\n",
    "from jumanji.training.utils import first_from_device\n",
    "from hydra import compose, initialize\n",
    "\n",
    "import matplotlib\n",
    "%matplotlib inline\n",
    "import matplotlib.pyplot as plt\n",
    "plt.isinteractive()"
   ]
  },
  {
   "cell_type": "code",
   "execution_count": 36,
   "metadata": {},
   "outputs": [
    {
     "data": {
      "text/plain": [
       "{'agent': 'a2c', 'seed': 0, 'logger': {'type': 'neptune', 'name': '${agent}_${env.name}_clem_gpu_lr_3e-4_gamma_0.99_padding_valid_norm_adv_True', 'save_checkpoint': True}, 'env': {'name': 'maze', 'env_kwargs': {'n_rows': 10, 'n_cols': 10}, 'network': {'num_channels': [32, 32, 8], 'policy_layers': [64, 64], 'value_layers': [128, 128]}, 'training': {'num_epochs': 100, 'num_learner_steps_per_epoch': 500, 'n_steps': 10, 'total_batch_size': 128}, 'evaluation': {'eval_total_batch_size': 500, 'greedy_eval_total_batch_size': 500}, 'a2c': {'normalize_advantage': True, 'discount_factor': 0.99, 'bootstrapping_factor': 0.95, 'l_pg': 1.0, 'l_td': 1.0, 'l_en': 0.01, 'learning_rate': 0.0003}}}"
      ]
     },
     "execution_count": 36,
     "metadata": {},
     "output_type": "execute_result"
    }
   ],
   "source": [
    "with initialize(version_base=None, config_path=\"../jumanji/training/configs\"):\n",
    "    cfg = compose(config_name=\"config.yaml\")\n",
    "cfg"
   ]
  },
  {
   "cell_type": "code",
   "execution_count": 38,
   "metadata": {},
   "outputs": [],
   "source": [
    "with open(\"training_state.pickle\",\"rb\") as f:\n",
    "    training_state = pickle.load(f)\n",
    "\n",
    "params = first_from_device(training_state.params_state.params)\n",
    "env = setup_env(cfg).unwrapped\n",
    "agent = setup_agent(cfg, env)\n",
    "policy = agent.make_policy(params.actor, stochastic = False)"
   ]
  },
  {
   "cell_type": "code",
   "execution_count": 39,
   "metadata": {
    "tags": []
   },
   "outputs": [],
   "source": [
    "states = []\n",
    "actions = {0:\"Up\", 1:\"Right\", 2:\"Down\", 3:\"Left\"}\n",
    "\n",
    "key = jax.random.PRNGKey(cfg.seed)\n",
    "for trial in range(10):\n",
    "    key, reset_key = jax.random.split(key) \n",
    "    state, timestep = env.reset(reset_key)\n",
    "    while not timestep.last():\n",
    "        key, action_key = jax.random.split(key) \n",
    "        action, _ = policy(jax.tree_util.tree_map(lambda x: jnp.expand_dims(x, axis=0), timestep.observation), action_key)\n",
    "        # print(timestep.observation.agent_position, actions[action.item()])\n",
    "        state, timestep = env.step(state, action.item())\n",
    "        states.append(state)\n"
   ]
  },
  {
   "cell_type": "code",
   "execution_count": 42,
   "metadata": {},
   "outputs": [
    {
     "data": {
      "text/plain": [
       "<matplotlib.animation.FuncAnimation at 0x7ff1dcab1e80>"
      ]
     },
     "execution_count": 42,
     "metadata": {},
     "output_type": "execute_result"
    }
   ],
   "source": [
    "env.animate(states, path=\"./maze.gif\", interval=150)"
   ]
  },
  {
   "cell_type": "code",
   "execution_count": 61,
   "metadata": {},
   "outputs": [
    {
     "data": {
      "image/png": "[encoded data removed]",
      "text/plain": [
       "<Figure size 720x720 with 1 Axes>"
      ]
     },
     "metadata": {
      "needs_background": "light"
     },
     "output_type": "display_data"
    }
   ],
   "source": [
    "env.render(state[0])"
   ]
  },
  {
   "cell_type": "code",
   "execution_count": null,
   "metadata": {},
   "outputs": [],
   "source": []
  }
 ],
 "metadata": {
  "kernelspec": {
   "display_name": "Python 3 (ipykernel)",
   "language": "python",
   "name": "python3"
  },
  "language_info": {
   "codemirror_mode": {
    "name": "ipython",
    "version": 3
   },
   "file_extension": ".py",
   "mimetype": "text/x-python",
   "name": "python",
   "nbconvert_exporter": "python",
   "pygments_lexer": "ipython3",
   "version": "3.9.15"
  }
 },
 "nbformat": 4,
 "nbformat_minor": 4
}
