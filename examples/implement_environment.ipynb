{
 "cells": [
  {
   "cell_type": "markdown",
   "metadata": {},
   "source": [
    "# Tutorial on How to Implement a Jumanji Environment"
   ]
  },
  {
   "cell_type": "markdown",
   "source": [
    "## What this notebook is\n",
    "\n",
    "- This notebook is a self-contained minimal implementation of a Jumanji environment. It runs entirely in about 20 seconds only (most time is spent installing packages).\n",
    "- It provides minimal code for each of the steps when implementing an environment: types, specs, reset function, step function, test on a random agent...\n",
    "- It can be served as a template when implementing a new environment. Most of it can be reused in most environments.\n",
    "\n",
    "If anything in this notebook is unclear, please contact us or raise an issue on GitHub. Best of luck!"
   ],
   "metadata": {
    "collapsed": false
   }
  },
  {
   "cell_type": "markdown",
   "metadata": {},
   "source": [
    "## Status\n",
    "\n",
    "- [x] Implement types\n",
    "- [x] Implement specs\n",
    "- [x] Environment dynamics: step and reset\n",
    "- [x] Roll out a random agent\n",
    "- [x] Train a DQN agent\n",
    "- [ ] Rendering\n",
    "- [ ] Support multiple reward functions\n",
    "- [ ] Support different generators\n"
   ]
  },
  {
   "cell_type": "markdown",
   "metadata": {},
   "source": [
    "## Introduction\n",
    "\n",
    "This tutorial will guide you through the implementation of an environment in Jumanji. We will take the example of a simple grid world. The goal is to navigate a cell agent to a target in a 2D grid world by moving one cell in any direction."
   ]
  },
  {
   "cell_type": "code",
   "execution_count": 1,
   "outputs": [
    {
     "name": "stdout",
     "output_type": "stream",
     "text": [
      "Note: you may need to restart the kernel to use updated packages.\n"
     ]
    }
   ],
   "source": [
    "%pip install --quiet -U pip ../. distrax flax tqdm dm-haiku optax"
   ],
   "metadata": {
    "collapsed": false
   }
  },
  {
   "cell_type": "code",
   "execution_count": 2,
   "metadata": {},
   "outputs": [
    {
     "name": "stderr",
     "output_type": "stream",
     "text": [
      "WARNING:jax._src.lib.xla_bridge:No GPU/TPU found, falling back to CPU. (Set TF_CPP_MIN_LOG_LEVEL=0 and rerun for more info.)\n"
     ]
    }
   ],
   "source": [
    "import functools\n",
    "from typing import NamedTuple, Optional, Tuple\n",
    "\n",
    "import chex\n",
    "import distrax\n",
    "import haiku as hk\n",
    "import jax.numpy as jnp\n",
    "import jax.random\n",
    "import optax\n",
    "import pytest\n",
    "\n",
    "from jumanji import Environment, specs\n",
    "from jumanji.types import TimeStep, restart, termination, transition\n",
    "from jumanji.testing.pytrees import assert_trees_are_different\n",
    "from jumanji.wrappers import AutoResetWrapper, VmapWrapper"
   ]
  },
  {
   "cell_type": "markdown",
   "metadata": {},
   "source": [
    "## types.py\n",
    "\n",
    "- `State`: What data/variables you need to store in your environment to easily write the `step` and `reset` functions. Because of the functional paradigm of JAX, these variables must be stored in a `State` data structure instead of being internal variables of the environment object.\n",
    "- `Observation`: What meaningful information you should provide to the agent. To ensure it is fully observable, you may want to check that an agent would be able to learn the value function (how much rewards it will get until the end of the episode) from the info contained in `Observation`."
   ]
  },
  {
   "cell_type": "code",
   "execution_count": 3,
   "metadata": {
    "collapsed": true
   },
   "outputs": [],
   "source": [
    "class Location(NamedTuple):\n",
    "    x: chex.Numeric\n",
    "    y: chex.Numeric\n",
    "\n",
    "    def __eq__(self, other: \"Location\") -> chex.Numeric:\n",
    "        return jnp.logical_and(self.x == other.x, self.y == other.y)\n",
    "\n",
    "class State(NamedTuple):\n",
    "    agent_location: Location\n",
    "    target_location: Location\n",
    "    key: chex.PRNGKey\n",
    "    step_count: chex.Numeric\n",
    "    action_mask: chex.Array"
   ]
  },
  {
   "cell_type": "markdown",
   "metadata": {},
   "source": [
    "To update the environment state, we forecast that we will need to store the current agent and target locations, a random key for any stochastic operation (sampling a new target location when reached) and a step count to terminate the episode when the horizon is reached.\n",
    "We create an auxiliary `Location` type to use for both agent and target locations. It is handy to also save the action mask in the state so that it is cheap to check that an action taken by an agent is valid or not.\n",
    "\n",
    "Another possible representation of the state would be:\n",
    "```\n",
    "class State(NamedTuple):\n",
    "    grid: chex.Array\n",
    "    key: chex.PRNGKey\n",
    "    step_count: chex.Numeric\n",
    "    chex.Array: chex.Array\n",
    "```\n",
    "Where the grid would contain information about all cells (e.g. with 0 when empty, 1 for the agent and 2 for the target)."
   ]
  },
  {
   "cell_type": "code",
   "execution_count": 4,
   "metadata": {},
   "outputs": [],
   "source": [
    "class Observation(NamedTuple):\n",
    "    agent_location: Location\n",
    "    target_location: Location\n",
    "    step_count: chex.Numeric\n",
    "    action_mask: chex.Array"
   ]
  },
  {
   "cell_type": "markdown",
   "metadata": {},
   "source": [
    "The observation is often a subset of the state and should contain everything one needs to make the environment Markovian, i.e. to predict the future (distributions of) rewards and states only based on actions. Here, observing both locations and the step count is enough. The random key would not provide any reasonable information to the agent and hence is not observed. The step count is important to observe as it directly impacts the expected return one can get from a specific location. The action mask is often given to inform the agent on what actions are valid or not. It is up to the agent to use it (sampling from a masked distribution) or to ignore it and risk sampling an invalid action that could either terminate the episode or act as a no-op (environment-specific behavior).\n",
    "\n",
    "Alternatively, we could observe the whole grid.\n",
    "```\n",
    "class Observation(NamedTuple):\n",
    "    grid: chex.Array\n",
    "    step_count: chex.Numeric\n",
    "    action_mask: chex.Array\n",
    "```"
   ]
  },
  {
   "cell_type": "markdown",
   "metadata": {},
   "source": [
    "## specs.py\n",
    "\n",
    "- Observation spec: this is where to inform the user on how the environment observation will look like.\n",
    "\n",
    "If you have a specific action space (nested, custom...), you will have to define a custom `ActionSpec` in the same way. Here, our action space will be a discrete array with 5 values: no-op, left, up, right, down. Hence, nothing to implement regarding the action here."
   ]
  },
  {
   "cell_type": "code",
   "execution_count": 5,
   "metadata": {},
   "outputs": [],
   "source": [
    "class LocationSpec(specs.Spec[Location]):\n",
    "    def __init__(\n",
    "        self,\n",
    "        x_spec: specs.BoundedArray,\n",
    "        y_spec: specs.BoundedArray,\n",
    "    ):\n",
    "        super().__init__(name=\"location\")\n",
    "        self.x_spec = x_spec\n",
    "        self.y_spec = y_spec\n",
    "\n",
    "    def __repr__(self) -> str:\n",
    "        return (\n",
    "            \"LocationSpec(\\n\"\n",
    "            f\"\\tx_spec={repr(self.x_spec)},\\n\"\n",
    "            f\"\\ty_spec={repr(self.y_spec)},\\n\"\n",
    "            \")\"\n",
    "        )\n",
    "\n",
    "    def generate_value(self) -> Location:\n",
    "        return Location(\n",
    "            x=self.x_spec.generate_value(),\n",
    "            y=self.y_spec.generate_value(),\n",
    "        )\n",
    "\n",
    "    def validate(self, location: Location) -> Location:\n",
    "        location = Location(\n",
    "            x=self.x_spec.validate(location.x),\n",
    "            y=self.y_spec.validate(location.y),\n",
    "        )\n",
    "        return location\n",
    "\n",
    "    def replace(self, **kwargs: specs.Spec) -> \"LocationSpec\":\n",
    "        all_kwargs = {\n",
    "            \"x_spec\": self.x_spec,\n",
    "            \"y_spec\": self.y_spec,\n",
    "        }\n",
    "        all_kwargs.update(kwargs)\n",
    "        return LocationSpec(**all_kwargs)\n"
   ]
  },
  {
   "cell_type": "markdown",
   "metadata": {},
   "source": [
    "Our `ObservationSpec` uses a custom `LocationSpec` that also needs to be defined."
   ]
  },
  {
   "cell_type": "code",
   "execution_count": 6,
   "metadata": {},
   "outputs": [],
   "source": [
    "class ObservationSpec(specs.Spec[Observation]):\n",
    "    def __init__(\n",
    "        self,\n",
    "        agent_location_spec: LocationSpec,\n",
    "        target_location_spec: LocationSpec,\n",
    "        step_count_spec: specs.Array,\n",
    "        action_mask_spec: specs.BoundedArray,\n",
    "    ):\n",
    "        super().__init__(name=\"observation\")\n",
    "        self.agent_location_spec = agent_location_spec\n",
    "        self.target_location_spec = target_location_spec\n",
    "        self.step_count_spec = step_count_spec\n",
    "        self.action_mask_spec = action_mask_spec\n",
    "\n",
    "    def __repr__(self) -> str:\n",
    "        return (\n",
    "            \"ObservationSpec(\\n\"\n",
    "            f\"\\tagent_location_spec={repr(self.agent_location_spec)},\\n\"\n",
    "            f\"\\ttarget_location_spec={repr(self.target_location_spec)},\\n\"\n",
    "            f\"\\tstep_count_spec={repr(self.step_count_spec)},\\n\"\n",
    "            f\"\\taction_mask_spec={repr(self.action_mask_spec)},\\n\"\n",
    "            \")\"\n",
    "        )\n",
    "\n",
    "    def generate_value(self) -> Observation:\n",
    "        return Observation(\n",
    "            agent_location=self.agent_location_spec.generate_value(),\n",
    "            target_location=self.target_location_spec.generate_value(),\n",
    "            step_count=self.step_count_spec.generate_value(),\n",
    "            action_mask=self.action_mask_spec.generate_value(),\n",
    "        )\n",
    "\n",
    "    def validate(self, observation: Observation) -> Observation:\n",
    "        observation = Observation(\n",
    "            agent_location=self.agent_location_spec.validate(observation.agent_location),\n",
    "            target_location=self.target_location_spec.validate(observation.target_location),\n",
    "            step_count=self.step_count_spec.validate(observation.step_count),\n",
    "            action_mask=self.action_mask_spec.validate(observation.action_mask),\n",
    "        )\n",
    "        return observation\n",
    "\n",
    "    def replace(self, **kwargs: specs.Spec) -> \"ObservationSpec\":\n",
    "        all_kwargs = {\n",
    "            \"agent_location_spec\": self.agent_location_spec,\n",
    "            \"target_location_spec\": self.target_location_spec,\n",
    "            \"step_count_spec\": self.step_count_spec,\n",
    "            \"action_mask_spec\": self.action_mask_spec,\n",
    "        }\n",
    "        all_kwargs.update(kwargs)\n",
    "        return ObservationSpec(**all_kwargs)\n"
   ]
  },
  {
   "cell_type": "markdown",
   "metadata": {},
   "source": [
    "To create a custom spec, you need to implement their `__repr__`, `generate_value`, `validate` and `replace` methods. They are a little lengthy yet pretty straightforward and can be copied from any already implemented nested spec in Jumanji."
   ]
  },
  {
   "cell_type": "markdown",
   "metadata": {},
   "source": [
    "## env.py\n",
    "\n",
    "Now you can implement the environment dynamics using the variables you defined in the `State`. During this process, you may need to iterate going back and forth between implementing the `step` and `reset` functions and changing the `State` to include anything you may have forgotten that is needed for the environment dynamics.\n",
    "\n",
    "Need to implement the following methods:\n",
    "- `observation_spec()`: defines the observation spec. You shall use here the `ObservationSpec` you defined earlier.\n",
    "- `action_spec()`: defines the action spec. You may use any custom specs or the ones already defined in Jumanji.\n",
    "- `reset(key)`: the environment reset behavior. This method generates a new instance/problem/initial state. Also returns a `TimeStep` that contains observation, reward, etc, things observed by the agent.\n",
    "- `step(state, action)`: the environment step behavior. This method generates a new environment state given a current state and an action taken by the agent. Also returns a `TimeStep` that contains observation, reward, etc, things observed by the agent."
   ]
  },
  {
   "cell_type": "code",
   "execution_count": 7,
   "metadata": {},
   "outputs": [],
   "source": [
    "class GridWorld(Environment[State]):\n",
    "    def __init__(self, grid_size: int, step_limit: Optional[int] = None):\n",
    "        self.grid_size = grid_size\n",
    "        self.step_limit = step_limit or 4 * grid_size\n",
    "\n",
    "    def __repr__(self) -> str:\n",
    "        return f\"GridWorld(grid_size={self.grid_size}, step_limit={self.step_limit})\"\n",
    "\n",
    "    def observation_spec(self) -> ObservationSpec:\n",
    "        location_spec = LocationSpec(\n",
    "            x_spec=specs.BoundedArray((), int, 0, self.grid_size-1, \"x_coordinate\"),\n",
    "            y_spec=specs.BoundedArray((), int, 0, self.grid_size-1, \"y_coordinate\"),\n",
    "        )\n",
    "        step_count_spec = specs.Array((), int, \"step_count\")\n",
    "        action_mask_spec = specs.BoundedArray((5,), bool, False, True, \"action_mask\")\n",
    "        return ObservationSpec(\n",
    "            agent_location_spec=location_spec,\n",
    "            target_location_spec=location_spec,\n",
    "            step_count_spec=step_count_spec,\n",
    "            action_mask_spec=action_mask_spec,\n",
    "        )\n",
    "\n",
    "    def action_spec(self) -> specs.DiscreteArray:\n",
    "        \"\"\"[0, 1, 2, 3, 4] -> [no-op, left, up, right, down]\"\"\"\n",
    "        return specs.DiscreteArray(5, name=\"action\")\n",
    "\n",
    "    def reset(self, key: chex.PRNGKey) -> Tuple[State, TimeStep[Observation]]:\n",
    "        sampling_key, state_key = jax.random.split(key)\n",
    "\n",
    "        # Generate random agent and target locations\n",
    "        agent_idx, target_idx = jax.random.choice(\n",
    "            sampling_key,\n",
    "            jnp.arange(self.grid_size**2),\n",
    "            (2,),\n",
    "            replace=False,\n",
    "        )\n",
    "\n",
    "        # To generate 2D coordinates without replacement (agent and target\n",
    "        # cannot be superposed), we flatten the coordinates and then use divmod.\n",
    "        agent_y, agent_x = jnp.divmod(agent_idx, self.grid_size)\n",
    "        target_y, target_x = jnp.divmod(target_idx, self.grid_size)\n",
    "        agent_location=Location(x=agent_x, y=agent_y)\n",
    "        target_location=Location(x=target_x, y=target_y)\n",
    "\n",
    "        # Generate action mask to keep in the state for the next step and\n",
    "        # to provide to the agent in the observation.\n",
    "        action_mask = self._action_mask(agent_location)\n",
    "\n",
    "        # Build the state.\n",
    "        state = State(\n",
    "            agent_location=agent_location,\n",
    "            target_location=target_location,\n",
    "            key=state_key,\n",
    "            step_count=jnp.int32(0),\n",
    "            action_mask=action_mask,\n",
    "        )\n",
    "\n",
    "        # Generate the observation from the environment state.\n",
    "        observation = self._observation_from_state(state)\n",
    "\n",
    "        # Return a restart timestep whose step type is FIRST\n",
    "        timestep = restart(observation)\n",
    "\n",
    "        return state, timestep\n",
    "\n",
    "    def step(self, state: State, action: chex.Numeric) -> Tuple[State, TimeStep[Observation]]:\n",
    "        # Check if the chosen action is valid.\n",
    "        action_is_valid = state.action_mask[action]\n",
    "\n",
    "        # We overwrite the action to be no-op if invalid.\n",
    "        action = jax.lax.select(\n",
    "            action_is_valid,\n",
    "            action,\n",
    "            0,\n",
    "        )\n",
    "\n",
    "        # Take the action in the environment: no-op, left, up, right or down.\n",
    "        agent_location = jax.lax.switch(\n",
    "            action,\n",
    "            [\n",
    "                lambda location: location,  # no-op\n",
    "                lambda location: Location(location.x - 1, location.y),  # left\n",
    "                lambda location: Location(location.x, location.y + 1),  # up\n",
    "                lambda location: Location(location.x + 1, location.y),  # right\n",
    "                lambda location: Location(location.x, location.y - 1),  # down\n",
    "            ],\n",
    "            state.agent_location,\n",
    "        )\n",
    "\n",
    "        # Generate action mask to keep in the state for the next step and\n",
    "        # to provide to the agent in the observation.\n",
    "        action_mask = self._action_mask(agent_location)\n",
    "\n",
    "        # Build the state.\n",
    "        state = State(\n",
    "            agent_location=agent_location,\n",
    "            target_location=state.target_location,\n",
    "            key=state.key,\n",
    "            step_count=state.step_count + 1,\n",
    "            action_mask=action_mask,\n",
    "        )\n",
    "        # Generate the observation from the environment state.\n",
    "        observation = self._observation_from_state(state)\n",
    "\n",
    "        # Check if the episode terminates (i.e. done is True).\n",
    "        done = (\n",
    "                ~action_is_valid\n",
    "                | (state.agent_location == state.target_location)\n",
    "                | (state.step_count >= self.step_limit)\n",
    "        )\n",
    "\n",
    "        # Compute the reward.\n",
    "        reward = jnp.float32(-1)\n",
    "\n",
    "        # Return either a MID or a LAST timestep depending on done.\n",
    "        timestep = jax.lax.cond(\n",
    "            done,\n",
    "            termination,\n",
    "            transition,\n",
    "            reward,\n",
    "            observation,\n",
    "        )\n",
    "\n",
    "        return state, timestep\n",
    "\n",
    "\n",
    "    def _action_mask(self, agent_location: Location) -> chex.Array:\n",
    "        return jnp.array(\n",
    "            [\n",
    "                True,  # no-op action\n",
    "                agent_location.x > 0,  # left action\n",
    "                agent_location.y < self.grid_size - 1,  # up action\n",
    "                agent_location.x < self.grid_size - 1,  # right action\n",
    "                agent_location.y > 0,  # down action\n",
    "            ],\n",
    "            bool,\n",
    "        )\n",
    "\n",
    "    def _observation_from_state(self, state: State) -> Observation:\n",
    "        return Observation(\n",
    "            agent_location=state.agent_location,\n",
    "            target_location=state.target_location,\n",
    "            step_count=state.step_count,\n",
    "            action_mask=state.action_mask,\n",
    "        )"
   ]
  },
  {
   "cell_type": "code",
   "execution_count": 8,
   "metadata": {},
   "outputs": [
    {
     "name": "stdout",
     "output_type": "stream",
     "text": [
      ">> state\n",
      "State(agent_location=Location(x=DeviceArray(5, dtype=int32), y=DeviceArray(0, dtype=int32)), target_location=Location(x=DeviceArray(2, dtype=int32), y=DeviceArray(2, dtype=int32)), key=DeviceArray([2718843009, 1272950319], dtype=uint32), step_count=DeviceArray(0, dtype=int32), action_mask=DeviceArray([ True,  True,  True, False, False], dtype=bool))\n",
      "\n",
      ">> timestep\n",
      "TimeStep(step_type=DeviceArray(0, dtype=int8), reward=DeviceArray(0., dtype=float32), discount=DeviceArray(1., dtype=float32), observation=Observation(agent_location=Location(x=DeviceArray(5, dtype=int32), y=DeviceArray(0, dtype=int32)), target_location=Location(x=DeviceArray(2, dtype=int32), y=DeviceArray(2, dtype=int32)), step_count=DeviceArray(0, dtype=int32), action_mask=DeviceArray([ True,  True,  True, False, False], dtype=bool)), extras=None)\n"
     ]
    }
   ],
   "source": [
    "env = GridWorld(6)\n",
    "\n",
    "key = jax.random.PRNGKey(0)\n",
    "state, timestep = env.reset(key)\n",
    "print(\">> state\")\n",
    "print(state)\n",
    "print(\"\\n>> timestep\")\n",
    "print(timestep)"
   ]
  },
  {
   "cell_type": "code",
   "execution_count": 9,
   "metadata": {},
   "outputs": [
    {
     "name": "stdout",
     "output_type": "stream",
     "text": [
      "Initial location: (5, 0)\n",
      "Action: 0 (no-op)   -> step type: 1 (transition),  new location: (5, 0)\n",
      "Action: 1 (left)    -> step type: 1 (transition),  new location: (4, 0)\n",
      "Action: 2 (up)      -> step type: 1 (transition),  new location: (5, 1)\n",
      "Action: 3 (right)   -> step type: 2 (termination), new location: (5, 0)\n",
      "Action: 4 (down)    -> step type: 2 (termination), new location: (5, 0)\n",
      "Action: 5 (invalid) -> step type: 2 (termination), new location: (5, 0)\n"
     ]
    }
   ],
   "source": [
    "print(f\"Initial location: ({state.agent_location.x}, {state.agent_location.y})\")\n",
    "for action, label in enumerate([\"no-op\", \"left\", \"up\", \"right\", \"down\", \"invalid\"]):\n",
    "    _, timestep = env.step(state, action)\n",
    "    x, y = tuple(timestep.observation.agent_location)\n",
    "    step_type = ['reset', 'transition', 'termination'][timestep.step_type]\n",
    "    print(\n",
    "        f\"Action: {action} {f'({label})':9s} -> \"\n",
    "        f\"step type: {timestep.step_type} {f'({step_type}), ':15s}\"\n",
    "        f\"new location: ({x}, {y})\"\n",
    "    )"
   ]
  },
  {
   "cell_type": "code",
   "execution_count": 10,
   "metadata": {},
   "outputs": [],
   "source": [
    "# Unit tests for re-compilation\n",
    "\n",
    "@pytest.fixture\n",
    "def grid_world() -> GridWorld:\n",
    "    return GridWorld(6)\n",
    "\n",
    "def test__env_reset(grid_world: GridWorld) -> None:\n",
    "    chex.clear_trace_counter()\n",
    "    reset_fn = jax.jit(chex.assert_max_traces(grid_world.reset, 1))\n",
    "    state1, _ = reset_fn(jax.random.PRNGKey(1))\n",
    "    state2, _ = reset_fn(jax.random.PRNGKey(2))  # check for recompilation\n",
    "    assert_trees_are_different(state1, state2)\n",
    "\n",
    "def test__env_step(grid_world: GridWorld) -> None:\n",
    "    chex.clear_trace_counter()\n",
    "    step_fn = jax.jit(chex.assert_max_traces(grid_world.step, 1))\n",
    "    state, _ = grid_world.reset(jax.random.PRNGKey(0))\n",
    "    action = grid_world.action_spec().generate_value()\n",
    "    next_state, _ = step_fn(state, action)\n",
    "    _ = step_fn(state, action)  # check for recompilation\n",
    "    assert_trees_are_different(state, next_state)\n",
    "\n",
    "test__env_reset(GridWorld(6))\n",
    "test__env_step(GridWorld(6))"
   ]
  },
  {
   "cell_type": "markdown",
   "metadata": {},
   "source": [
    "## Random agent"
   ]
  },
  {
   "cell_type": "code",
   "execution_count": 11,
   "outputs": [],
   "source": [
    "import matplotlib.pyplot as plt\n",
    "%matplotlib inline"
   ],
   "metadata": {
    "collapsed": false
   }
  },
  {
   "cell_type": "code",
   "execution_count": 12,
   "metadata": {},
   "outputs": [],
   "source": [
    "def random_rollout(grid_world: GridWorld, key: chex.PRNGKey) -> chex.Numeric:\n",
    "    def body_fun(\n",
    "            carry: Tuple[State, TimeStep, chex.PRNGKey, chex.Numeric],\n",
    "    ) -> Tuple[State, TimeStep, chex.PRNGKey, chex.Numeric]:\n",
    "        state, timestep, key, return_ = carry\n",
    "        action_key, key = jax.random.split(key)\n",
    "        action = jax.random.choice(action_key, jnp.arange(5), p=state.action_mask.flatten())\n",
    "        state, timestep = grid_world.step(state, action)\n",
    "        return_ += timestep.reward\n",
    "        return state, timestep, key, return_\n",
    "\n",
    "    state, timestep = grid_world.reset(key)\n",
    "    (*_, return_) = jax.lax.while_loop(\n",
    "        cond_fun=lambda carry: ~carry[1].last(),\n",
    "        body_fun=body_fun,\n",
    "        init_val=(state, timestep, key, jnp.float32(0)),\n",
    "    )\n",
    "    return return_\n",
    "\n",
    "random_rollout = jax.jit(functools.partial(random_rollout, GridWorld(6)))"
   ]
  },
  {
   "cell_type": "code",
   "execution_count": 13,
   "metadata": {},
   "outputs": [
    {
     "name": "stdout",
     "output_type": "stream",
     "text": [
      "Average return: -20.3 +/- 7.0\n"
     ]
    },
    {
     "data": {
      "text/plain": "<Figure size 640x480 with 1 Axes>",
      "image/png": "[encoded data removed]"
     },
     "metadata": {},
     "output_type": "display_data"
    }
   ],
   "source": [
    "keys = jax.random.split(jax.random.PRNGKey(0), 1000)\n",
    "returns = jnp.array([random_rollout(key) for key in keys])\n",
    "print(f\"Average return: {returns.mean():.1f} +/- {returns.std():.1f}\")\n",
    "plt.hist(returns)\n",
    "plt.title(\"Returns on a 6x6 grid (step_limit=24)\")\n",
    "plt.xlabel(\"Return\");"
   ]
  },
  {
   "cell_type": "markdown",
   "metadata": {},
   "source": [
    "## Training (optional)"
   ]
  },
  {
   "cell_type": "code",
   "execution_count": 14,
   "outputs": [],
   "source": [
    "from tqdm.auto import trange"
   ],
   "metadata": {
    "collapsed": false
   }
  },
  {
   "cell_type": "code",
   "execution_count": 15,
   "metadata": {},
   "outputs": [],
   "source": [
    "def make_policy_network(epsilon: float, eval_epsilon: float):\n",
    "    def q_network_fn(observation: Observation) -> chex.Array:\n",
    "        x = jnp.stack(\n",
    "            [\n",
    "                observation.agent_location.x,\n",
    "                observation.agent_location.y,\n",
    "                observation.target_location.x,\n",
    "                observation.target_location.y,\n",
    "                observation.step_count,\n",
    "            ],\n",
    "            axis=-1,\n",
    "            dtype=jnp.float32,\n",
    "        )\n",
    "        return hk.nets.MLP([32, 32, 5])(x)\n",
    "\n",
    "    q_network = hk.without_apply_rng(hk.transform(q_network_fn))\n",
    "\n",
    "    def policy_fn(\n",
    "            params: hk.Params,\n",
    "            observation: Observation,\n",
    "            key: chex.PRNGKey,\n",
    "            epsilon: float,\n",
    "    ) -> Tuple[chex.Numeric, chex.Array]:\n",
    "        q_values = q_network.apply(params, observation)\n",
    "        q_values = jnp.where(observation.action_mask, q_values, jnp.finfo(\"float32\").min)\n",
    "        dist = distrax.EpsilonGreedy(q_values, epsilon)\n",
    "        action = dist.sample(seed=key)\n",
    "        return action, q_values\n",
    "\n",
    "    policy = functools.partial(policy_fn, epsilon=epsilon)\n",
    "    eval_policy = functools.partial(policy_fn, epsilon=eval_epsilon)\n",
    "    return policy, eval_policy, q_network"
   ]
  },
  {
   "cell_type": "code",
   "execution_count": 16,
   "metadata": {},
   "outputs": [],
   "source": [
    "gamma = 0.95\n",
    "epsilon = 0.2\n",
    "batch_size = 64\n",
    "seed = 0\n",
    "num_updates_per_epoch = 50\n",
    "eval_batch_size = 10\n",
    "num_epochs = 100\n",
    "\n",
    "grid_world = GridWorld(6)\n",
    "train_grid_world = VmapWrapper(AutoResetWrapper(grid_world))\n",
    "eval_grid_world = grid_world\n",
    "\n",
    "policy, eval_policy, q_network = make_policy_network(epsilon=epsilon, eval_epsilon=0.0)"
   ]
  },
  {
   "cell_type": "code",
   "execution_count": 17,
   "metadata": {},
   "outputs": [],
   "source": [
    "def train_step(\n",
    "        params: hk.Params,\n",
    "        optimizer_state: optax.OptState,\n",
    "        states: State,\n",
    "        timesteps: TimeStep,\n",
    "        keys: chex.PRNGKey,\n",
    "):\n",
    "    def loss(params: hk.Params, states: State, timesteps: TimeStep, keys: chex.PRNGKey):\n",
    "        actions, q_values = jax.vmap(policy, in_axes=(None, 0, 0))(params, timesteps.observation, keys)\n",
    "        selected_q_values = jnp.take_along_axis(q_values, actions[:, None], axis=-1).squeeze(axis=-1)\n",
    "        states, timesteps = train_grid_world.step(states, actions)\n",
    "        _, next_q_values = jax.vmap(policy, in_axes=(None, 0, 0))(params, timesteps.observation, keys)\n",
    "        td_error = (\n",
    "                timesteps.reward + gamma * timesteps.discount * jnp.max(next_q_values, axis=-1) - selected_q_values\n",
    "        )\n",
    "        return jnp.mean(td_error**2), (states, timesteps)\n",
    "    (dqn_loss, (states, timesteps)), grad = jax.value_and_grad(loss, has_aux=True)(\n",
    "        params, states, timesteps, keys,\n",
    "    )\n",
    "    updates, optimizer_state = optimizer.update(grad, optimizer_state)\n",
    "    params = optax.apply_updates(params, updates)\n",
    "    metrics = {\n",
    "        \"dqn_loss\": dqn_loss,\n",
    "        \"discount\": jnp.mean(timesteps.discount),\n",
    "    }\n",
    "    return (params, optimizer_state, states, timesteps), metrics\n",
    "\n",
    "@jax.jit\n",
    "def train_multi_step(\n",
    "        params: hk.Params,\n",
    "        optimizer_state: optax.OptState,\n",
    "        states: State,\n",
    "        timesteps: TimeStep,\n",
    "        keys: chex.PRNGKey,\n",
    "):\n",
    "    (params, optimizer_state, states, timesteps), metrics = jax.lax.scan(\n",
    "        lambda carry, k: train_step(*carry, k),\n",
    "        (params, optimizer_state, states, timesteps),\n",
    "        keys,\n",
    "    )\n",
    "    metrics = jax.tree_util.tree_map(jnp.mean, metrics)\n",
    "    return (params, optimizer_state, states, timesteps), metrics\n",
    "\n",
    "@jax.jit\n",
    "def evaluate(params: hk.Params, key: chex.PRNGKey):\n",
    "    def evaluate_one_episode(key: chex.PRNGKey):\n",
    "        def one_step(\n",
    "                state: State,\n",
    "                timestep: TimeStep,\n",
    "                return_: chex.Numeric,\n",
    "                key: chex.PRNGKey,\n",
    "        ):\n",
    "            key, action_key = jax.random.split(key)\n",
    "            action, _ = eval_policy(params, timestep.observation, action_key)\n",
    "            state, timestep = eval_grid_world.step(state, action)\n",
    "            return_ += timestep.reward\n",
    "            return state, timestep, return_, key\n",
    "        state, timestep = eval_grid_world.reset(key)\n",
    "        *_, return_, _ = jax.lax.while_loop(\n",
    "            lambda carry: ~carry[1].last(),\n",
    "            lambda carry: one_step(*carry),\n",
    "            (state, timestep, jnp.float32(0), key),\n",
    "        )\n",
    "        return return_\n",
    "    keys = jax.random.split(key, eval_batch_size)\n",
    "    returns = jax.vmap(evaluate_one_episode)(keys)\n",
    "    return jnp.mean(returns)"
   ]
  },
  {
   "cell_type": "code",
   "execution_count": 18,
   "outputs": [
    {
     "data": {
      "text/plain": "  0%|          | 0/100 [00:00<?, ?it/s]",
      "application/vnd.jupyter.widget-view+json": {
       "version_major": 2,
       "version_minor": 0,
       "model_id": "a4f0d1e915c84e4b914318064ec9832a"
      }
     },
     "metadata": {},
     "output_type": "display_data"
    }
   ],
   "source": [
    "key, params_key = jax.random.split(jax.random.PRNGKey(seed))\n",
    "params = q_network.init(params_key, train_grid_world.observation_spec().generate_value())\n",
    "optimizer = optax.adam(1e-3)\n",
    "optimizer_state = optimizer.init(params)\n",
    "states, timesteps = train_grid_world.reset(jax.random.split(key, batch_size))\n",
    "\n",
    "returns = []\n",
    "for _ in trange(num_epochs):\n",
    "    key, epoch_key, eval_key = jax.random.split(key, 3)\n",
    "    keys = jax.random.split(epoch_key, batch_size * num_updates_per_epoch).reshape(\n",
    "        (num_updates_per_epoch, batch_size, -1)\n",
    "    )\n",
    "    (params, optimizer_state, states, timesteps), metrics = train_multi_step(\n",
    "        params, optimizer_state, states, timesteps, keys,\n",
    "    )\n",
    "    returns.append(evaluate(params, eval_key))"
   ],
   "metadata": {
    "collapsed": false
   }
  },
  {
   "cell_type": "code",
   "execution_count": 19,
   "outputs": [
    {
     "data": {
      "text/plain": "<Figure size 640x480 with 1 Axes>",
      "image/png": "[encoded data removed]"
     },
     "metadata": {},
     "output_type": "display_data"
    }
   ],
   "source": [
    "plt.plot(returns)\n",
    "plt.title(\"Average Return\")\n",
    "plt.xlabel(\"Iterations\");"
   ],
   "metadata": {
    "collapsed": false
   }
  }
 ],
 "metadata": {
  "kernelspec": {
   "display_name": "Python 3 (ipykernel)",
   "language": "python",
   "name": "python3"
  },
  "language_info": {
   "codemirror_mode": {
    "name": "ipython",
    "version": 3
   },
   "file_extension": ".py",
   "mimetype": "text/x-python",
   "name": "python",
   "nbconvert_exporter": "python",
   "pygments_lexer": "ipython3",
   "version": "3.8.10"
  }
 },
 "nbformat": 4,
 "nbformat_minor": 1
}
